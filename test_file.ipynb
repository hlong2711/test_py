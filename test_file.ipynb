{
 "cells": [
  {
   "cell_type": "markdown",
   "id": "000345ee",
   "metadata": {},
   "source": [
    "# Test file system\n"
   ]
  },
  {
   "cell_type": "markdown",
   "id": "951096cf",
   "metadata": {},
   "source": [
    "Open file"
   ]
  },
  {
   "cell_type": "code",
   "execution_count": 2,
   "id": "57aa62a5",
   "metadata": {},
   "outputs": [
    {
     "name": "stdout",
     "output_type": "stream",
     "text": [
      "Use to learn basic python via notebook\n",
      "\n",
      "###\n",
      "- Install uv\n",
      "- Run `uv sync`\n",
      "\n"
     ]
    }
   ],
   "source": [
    "f = open(\"./README.md\", \"r\")\n",
    "print(f.read())\n",
    "f.close()"
   ]
  },
  {
   "cell_type": "markdown",
   "id": "df0a82c9",
   "metadata": {},
   "source": [
    "Create file"
   ]
  },
  {
   "cell_type": "code",
   "execution_count": 11,
   "id": "d5f73a1c",
   "metadata": {},
   "outputs": [
    {
     "name": "stdout",
     "output_type": "stream",
     "text": [
      "first line\n",
      "second line\n",
      "\n"
     ]
    }
   ],
   "source": [
    "f = open(\"./test.txt\", \"w+t\") # + sign allow reading file\n",
    "f.writelines([\"first line\\n\", \"second line\\n\"])\n",
    "f.seek(0)\n",
    "print(f.read())\n",
    "f.close()"
   ]
  },
  {
   "cell_type": "markdown",
   "id": "05edcfbf",
   "metadata": {},
   "source": [
    "Delete file\n",
    "- Must use `import os`"
   ]
  },
  {
   "cell_type": "code",
   "execution_count": 12,
   "id": "8f8eb1b4",
   "metadata": {},
   "outputs": [],
   "source": [
    "import os\n",
    "\n",
    "if os.path.exists(\"test.txt\"):\n",
    "    os.remove(\"test.txt\")\n",
    "else:\n",
    "    print(\"file is not existed\")"
   ]
  }
 ],
 "metadata": {
  "kernelspec": {
   "display_name": ".venv",
   "language": "python",
   "name": "python3"
  },
  "language_info": {
   "codemirror_mode": {
    "name": "ipython",
    "version": 3
   },
   "file_extension": ".py",
   "mimetype": "text/x-python",
   "name": "python",
   "nbconvert_exporter": "python",
   "pygments_lexer": "ipython3",
   "version": "3.11.11"
  }
 },
 "nbformat": 4,
 "nbformat_minor": 5
}
