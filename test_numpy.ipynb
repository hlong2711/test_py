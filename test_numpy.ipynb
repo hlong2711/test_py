{
 "cells": [
  {
   "cell_type": "markdown",
   "id": "7df0d2be",
   "metadata": {},
   "source": [
    "# Test Numpy array\n"
   ]
  },
  {
   "cell_type": "markdown",
   "id": "cf3e26db",
   "metadata": {},
   "source": [
    "Array can have many dimensions\n"
   ]
  },
  {
   "cell_type": "code",
   "execution_count": 1,
   "id": "cd5c27dc",
   "metadata": {},
   "outputs": [
    {
     "name": "stdout",
     "output_type": "stream",
     "text": [
      "(2, 4)\n",
      "2\n"
     ]
    }
   ],
   "source": [
    "# test array\n",
    "import numpy as np\n",
    "\n",
    "arr = np.array([[1, 2, 3, 4], [5, 6, 7, 8]])\n",
    "\n",
    "print(arr.shape)\n",
    "print(arr.ndim)  # num dimension"
   ]
  },
  {
   "cell_type": "markdown",
   "id": "185ea2d4",
   "metadata": {},
   "source": [
    "Array can be reshaped to any shape\n",
    "\n",
    "- A shape is a view of original array\n"
   ]
  },
  {
   "cell_type": "code",
   "execution_count": null,
   "id": "489089a6",
   "metadata": {},
   "outputs": [
    {
     "name": "stdout",
     "output_type": "stream",
     "text": [
      "[[ 1  2  3]\n",
      " [ 4  5  6]\n",
      " [ 7  8  9]\n",
      " [10 11 12]]\n",
      "[ 1  2  3  4  5  6  7  8  9 10 11 12]\n",
      "copy\n",
      "[[ 1  2  3]\n",
      " [ 4  5  6]\n",
      " [ 7  8  9]\n",
      " [10 11 12]]\n",
      "None\n",
      "[ 1  2  3  4  5  6  7  8  9 10 11 12]\n"
     ]
    }
   ],
   "source": [
    "# reshape\n",
    "import numpy as np\n",
    "\n",
    "arr = np.array([1, 2, 3, 4, 5, 6, 7, 8, 9, 10, 11, 12])\n",
    "\n",
    "newarr = arr.reshape(4, 3)\n",
    "\n",
    "print(newarr)\n",
    "print(newarr.base)\n",
    "\n",
    "# copy\n",
    "print(\"copy\")\n",
    "copyArr = newarr.copy()\n",
    "print(copyArr)\n",
    "print(copyArr.base)\n",
    "print(copyArr.reshape(-1))  # flatten array"
   ]
  },
  {
   "cell_type": "markdown",
   "id": "8b9d48c3",
   "metadata": {},
   "source": [
    "Use `nditer()` to iterate through the elements of the multi dimension array\n"
   ]
  },
  {
   "cell_type": "code",
   "execution_count": null,
   "id": "8dfa58d0",
   "metadata": {},
   "outputs": [
    {
     "name": "stdout",
     "output_type": "stream",
     "text": [
      "1\n",
      "2\n",
      "3\n",
      "4\n",
      "5\n",
      "6\n",
      "7\n",
      "8\n"
     ]
    }
   ],
   "source": [
    "import numpy as np\n",
    "\n",
    "arr = np.array([[[1, 2], [3, 4]], [[5, 6], [7, 8]]])\n",
    "\n",
    "for x in np.nditer(arr):\n",
    "    print(x)"
   ]
  },
  {
   "cell_type": "markdown",
   "id": "f831733a",
   "metadata": {},
   "source": [
    "Use `ndenumerate()` to iterate over both the array's indices and values. Indices are in a tuple type.\n"
   ]
  },
  {
   "cell_type": "code",
   "execution_count": 5,
   "id": "bcc6c6ec",
   "metadata": {},
   "outputs": [
    {
     "name": "stdout",
     "output_type": "stream",
     "text": [
      "(0, 0) 1\n",
      "(0, 1) 2\n",
      "(0, 2) 3\n",
      "(0, 3) 4\n",
      "(1, 0) 5\n",
      "(1, 1) 6\n",
      "(1, 2) 7\n",
      "(1, 3) 8\n"
     ]
    }
   ],
   "source": [
    "import numpy as np\n",
    "\n",
    "arr = np.array([[1, 2, 3, 4], [5, 6, 7, 8]])\n",
    "\n",
    "for idx, x in np.ndenumerate(arr):\n",
    "    print(idx, x)"
   ]
  },
  {
   "cell_type": "markdown",
   "id": "0c7aadbe",
   "metadata": {},
   "source": [
    "Concat and Stack array\n"
   ]
  },
  {
   "cell_type": "code",
   "execution_count": null,
   "id": "1fac1a5a",
   "metadata": {},
   "outputs": [
    {
     "name": "stdout",
     "output_type": "stream",
     "text": [
      "----axis 0\n",
      " [[1 2]\n",
      " [3 4]\n",
      " [5 6]\n",
      " [7 8]]\n",
      "----axis 1\n",
      " [[1 2 5 6]\n",
      " [3 4 7 8]]\n"
     ]
    }
   ],
   "source": [
    "import numpy as np\n",
    "\n",
    "arr1 = np.array([[1, 2], [3, 4]])\n",
    "\n",
    "arr2 = np.array([[5, 6], [7, 8]])\n",
    "\n",
    "arr = np.concatenate((arr1, arr2), axis=0)  # concat along dimension 0\n",
    "print(\"----axis 0\\n\", arr)\n",
    "\n",
    "arr = np.concatenate((arr1, arr2), axis=1)  # concat along dimension 1\n",
    "print(\"----axis 1\\n\", arr)"
   ]
  },
  {
   "cell_type": "markdown",
   "id": "93292263",
   "metadata": {},
   "source": [
    "Stacking is same as concatenation, the only difference is that stacking is done along a new axis\n"
   ]
  },
  {
   "cell_type": "code",
   "execution_count": null,
   "id": "f630dcfe",
   "metadata": {},
   "outputs": [
    {
     "name": "stdout",
     "output_type": "stream",
     "text": [
      "[[ 1  2  3  4  5]\n",
      " [ 6  7  8  9 10]]\n",
      "[[ 1  6]\n",
      " [ 2  7]\n",
      " [ 3  8]\n",
      " [ 4  9]\n",
      " [ 5 10]]\n"
     ]
    }
   ],
   "source": [
    "arr1 = np.array([1, 2, 3, 4, 5])\n",
    "arr2 = np.array([6, 7, 8, 9, 10])\n",
    "\n",
    "# we can't concat 2 arrays with axis=1 (out of dimension)\n",
    "# arr = np.concatenate((arr1, arr2), axis=1) # ERROR!\n",
    "\n",
    "arr = np.stack((arr1, arr2), axis=0)\n",
    "print(arr)\n",
    "arr = np.stack((arr1, arr2), axis=1)\n",
    "print(arr)"
   ]
  },
  {
   "cell_type": "code",
   "execution_count": 36,
   "id": "f5832941",
   "metadata": {},
   "outputs": [
    {
     "name": "stdout",
     "output_type": "stream",
     "text": [
      "[[ 1  2  3  4  5]\n",
      " [ 6  7  8  9 10]]\n",
      "[ 1  2  3  4  5  6  7  8  9 10]\n",
      "[[[ 1  6]\n",
      "  [ 2  7]\n",
      "  [ 3  8]\n",
      "  [ 4  9]\n",
      "  [ 5 10]]]\n"
     ]
    }
   ],
   "source": [
    "# arr1 = np.array([[[1, 2], [3, 4]]])\n",
    "# arr2 = np.array([[[6, 7], [8, 9]]])\n",
    "\n",
    "arr1 = np.array([1, 2, 3, 4, 5])\n",
    "arr2 = np.array([6, 7, 8, 9, 10])\n",
    "\n",
    "# [\n",
    "# arr1,\n",
    "# arr2,\n",
    "# ]\n",
    "arr = np.vstack((arr1, arr2))\n",
    "print(arr)\n",
    "\n",
    "# [ ...arr1, ...arr2 ]\n",
    "arr = np.hstack((arr1, arr2))  # like concat 2 arrays\n",
    "print(arr)\n",
    "\n",
    "# depth stack make 3D array (it will shape the input arrays to an 3D array)\n",
    "arr = np.dstack((arr1, arr2))\n",
    "print(arr)"
   ]
  },
  {
   "cell_type": "markdown",
   "id": "d5ea8efb",
   "metadata": {},
   "source": [
    "Split array\n"
   ]
  },
  {
   "cell_type": "code",
   "execution_count": 35,
   "id": "36774b4b",
   "metadata": {},
   "outputs": [
    {
     "name": "stdout",
     "output_type": "stream",
     "text": [
      "[array([1, 2]), array([3, 4]), array([5]), array([6])]\n",
      "<class 'list'>\n"
     ]
    }
   ],
   "source": [
    "import numpy as np\n",
    "\n",
    "arr = np.array([1, 2, 3, 4, 5, 6])\n",
    "\n",
    "newarr = np.array_split(arr, 4)\n",
    "\n",
    "print(newarr)\n",
    "print(type(newarr))"
   ]
  },
  {
   "cell_type": "markdown",
   "id": "87a61769",
   "metadata": {},
   "source": [
    "### Filter array\n",
    "\n",
    "it need a boolean array which will be used to filter the array. if index is true then it will be included in the filtered array.\n"
   ]
  },
  {
   "cell_type": "code",
   "execution_count": 39,
   "id": "aaf1b3bf",
   "metadata": {},
   "outputs": [
    {
     "name": "stdout",
     "output_type": "stream",
     "text": [
      "[1 3 5]\n"
     ]
    }
   ],
   "source": [
    "# basic\n",
    "import numpy as np\n",
    "\n",
    "arr1 = np.array([1, 2, 3, 4, 5])\n",
    "\n",
    "filtering = [True, False, True, False, True]\n",
    "\n",
    "arr2 = arr1[filtering]\n",
    "\n",
    "print(arr2)"
   ]
  },
  {
   "cell_type": "code",
   "execution_count": null,
   "id": "27b56c1f",
   "metadata": {},
   "outputs": [
    {
     "name": "stdout",
     "output_type": "stream",
     "text": [
      "[False False False  True  True]\n",
      "[4 5]\n"
     ]
    }
   ],
   "source": [
    "# filter directly\n",
    "import numpy as np\n",
    "\n",
    "arr1 = np.array([1, 2, 3, 4, 5])\n",
    "filtering = arr1 > 3\n",
    "\n",
    "print(filtering)\n",
    "print(arr1[filtering])"
   ]
  },
  {
   "cell_type": "markdown",
   "id": "469ed510",
   "metadata": {},
   "source": [
    "Random from array numbers with probability"
   ]
  },
  {
   "cell_type": "code",
   "execution_count": 3,
   "id": "6ee22c1c",
   "metadata": {},
   "outputs": [
    {
     "name": "stdout",
     "output_type": "stream",
     "text": [
      "[7 7 7 7 5 7 7 7 5 3 5 5 5 5 5 7 7 5 3 3 7 7 7 7 5 5 5 7 5 7 7 7 7 3 3 5 7\n",
      " 7 3 7 7 7 7 3 7 7 7 7 5 5 5 7 3 7 5 7 5 5 5 7 3 5 7 7 5 7 7 5 7 7 7 7 5 7\n",
      " 5 5 7 7 7 7 5 7 5 7 7 5 5 5 7 7 7 7 7 7 3 5 7 7 5 3]\n",
      "Number 7 occurs 56 times\n",
      "Number 5 occurs 33 times\n",
      "Number 3 occurs 11 times\n"
     ]
    }
   ],
   "source": [
    "from numpy import random\n",
    "from collections import Counter\n",
    "\n",
    "x = random.choice([3, 5, 7, 9], p=[0.1, 0.3, 0.6, 0.0], size=(100))\n",
    "print(x)\n",
    "\n",
    "# Count occurrences using Counter\n",
    "counter = Counter(x)\n",
    "for number, count in counter.items():\n",
    "    print(f\"Number {number} occurs {count} times\")"
   ]
  }
 ],
 "metadata": {
  "kernelspec": {
   "display_name": ".venv",
   "language": "python",
   "name": "python3"
  },
  "language_info": {
   "codemirror_mode": {
    "name": "ipython",
    "version": 3
   },
   "file_extension": ".py",
   "mimetype": "text/x-python",
   "name": "python",
   "nbconvert_exporter": "python",
   "pygments_lexer": "ipython3",
   "version": "3.11.11"
  }
 },
 "nbformat": 4,
 "nbformat_minor": 5
}
