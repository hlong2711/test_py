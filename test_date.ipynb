{
 "cells": [
  {
   "cell_type": "markdown",
   "id": "bc32409b",
   "metadata": {},
   "source": [
    "# Test Datetime\n",
    "- Module datetime\n",
    "- Format: https://www.w3schools.com/python/python_datetime.asp"
   ]
  },
  {
   "cell_type": "code",
   "execution_count": null,
   "id": "86eb3485",
   "metadata": {},
   "outputs": [
    {
     "name": "stdout",
     "output_type": "stream",
     "text": [
      "2025-04-08 17:53:16.268782\n",
      "2025/04/08\n"
     ]
    }
   ],
   "source": [
    "from datetime import datetime as dt\n",
    "\n",
    "print(dt.now())\n",
    "\n",
    "x = dt.now()\n",
    "\n",
    "print(x.strftime(\"%Y/%m/%d\")) #format"
   ]
  }
 ],
 "metadata": {
  "kernelspec": {
   "display_name": ".venv",
   "language": "python",
   "name": "python3"
  },
  "language_info": {
   "codemirror_mode": {
    "name": "ipython",
    "version": 3
   },
   "file_extension": ".py",
   "mimetype": "text/x-python",
   "name": "python",
   "nbconvert_exporter": "python",
   "pygments_lexer": "ipython3",
   "version": "3.11.11"
  }
 },
 "nbformat": 4,
 "nbformat_minor": 5
}
