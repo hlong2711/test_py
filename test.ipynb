{
 "cells": [
  {
   "cell_type": "code",
   "execution_count": 2,
   "id": "1c6e6c4d",
   "metadata": {},
   "outputs": [
    {
     "name": "stdout",
     "output_type": "stream",
     "text": [
      "Hello notebook\n",
      "hahaha\n"
     ]
    }
   ],
   "source": [
    "print(\"Hello notebook\")\n",
    "print(\"hahaha\")"
   ]
  },
  {
   "cell_type": "markdown",
   "id": "cadc82c6",
   "metadata": {},
   "source": [
    "## Select kernel duoc roi, because of not installed of Python extension"
   ]
  }
 ],
 "metadata": {
  "kernelspec": {
   "display_name": ".venv",
   "language": "python",
   "name": "python3"
  },
  "language_info": {
   "codemirror_mode": {
    "name": "ipython",
    "version": 3
   },
   "file_extension": ".py",
   "mimetype": "text/x-python",
   "name": "python",
   "nbconvert_exporter": "python",
   "pygments_lexer": "ipython3",
   "version": "3.11.11"
  }
 },
 "nbformat": 4,
 "nbformat_minor": 5
}
