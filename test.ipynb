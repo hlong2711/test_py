{
 "cells": [
  {
   "cell_type": "code",
   "execution_count": 2,
   "id": "1c6e6c4d",
   "metadata": {},
   "outputs": [
    {
     "name": "stdout",
     "output_type": "stream",
     "text": [
      "Hello notebook\n",
      "hahaha\n"
     ]
    }
   ],
   "source": [
    "print(\"Hello notebook\")\n",
    "print(\"hahaha\")"
   ]
  },
  {
   "cell_type": "markdown",
   "id": "cadc82c6",
   "metadata": {},
   "source": [
    "## Select kernel duoc roi, because of not installed of Python extension\n"
   ]
  },
  {
   "cell_type": "markdown",
   "id": "d0ee43e4",
   "metadata": {},
   "source": [
    "extract tuple: object as ref, value as value\n"
   ]
  },
  {
   "cell_type": "code",
   "execution_count": 11,
   "id": "61a60bb4",
   "metadata": {},
   "outputs": [
    {
     "name": "stdout",
     "output_type": "stream",
     "text": [
      "value:  | {'a': 1} | [1] | 2\n",
      "after change  | ({'a': 2}, 1, 2) | {'a': 2} | 3\n"
     ]
    }
   ],
   "source": [
    "val = ({\"a\": 1}, 1, 2)\n",
    "\n",
    "a, *b, c = val\n",
    "print(\"value: \", a, b, c, sep=\" | \")\n",
    "\n",
    "a[\"a\"] = 2\n",
    "c = 3\n",
    "\n",
    "print(\"after change \", val, a, c, sep=\" | \")"
   ]
  },
  {
   "cell_type": "markdown",
   "id": "58309a2f",
   "metadata": {},
   "source": [
    "Number and complex number\n"
   ]
  },
  {
   "cell_type": "code",
   "execution_count": 12,
   "id": "c68a9efb",
   "metadata": {},
   "outputs": [
    {
     "name": "stdout",
     "output_type": "stream",
     "text": [
      "2.1\n",
      "(1+2j)\n",
      "5j\n"
     ]
    }
   ],
   "source": [
    "a = 1\n",
    "f = 1.1\n",
    "b = 2j\n",
    "c = 3j\n",
    "\n",
    "print(a + f)\n",
    "print(a + b)\n",
    "print(b + c)"
   ]
  },
  {
   "cell_type": "code",
   "execution_count": 26,
   "id": "89f03a0e",
   "metadata": {},
   "outputs": [
    {
     "name": "stdout",
     "output_type": "stream",
     "text": [
      "9\n"
     ]
    }
   ],
   "source": [
    "# Random\n",
    "import random\n",
    "\n",
    "print(random.randrange(1, 10))"
   ]
  },
  {
   "cell_type": "code",
   "execution_count": null,
   "id": "5e745c2f",
   "metadata": {},
   "outputs": [
    {
     "name": "stdout",
     "output_type": "stream",
     "text": [
      "HELLO, WORLD!\n",
      "Hello, World!\n"
     ]
    }
   ],
   "source": [
    "b = \"Hello, World!\"\n",
    "print(b.upper())\n",
    "print(b)  # string b is still not changed"
   ]
  },
  {
   "cell_type": "code",
   "execution_count": 65,
   "id": "aec866af",
   "metadata": {},
   "outputs": [
    {
     "name": "stdout",
     "output_type": "stream",
     "text": [
      "My name is Long, age: 33.00 My age is 33\n"
     ]
    }
   ],
   "source": [
    "# format string\n",
    "\n",
    "name = \"Long\"\n",
    "age = 33\n",
    "\n",
    "txt = f\"My name is {name}, age: {age:.2f}\"\n",
    "txt2 = \"My age is {}\".format(age)\n",
    "print(txt, txt2)"
   ]
  },
  {
   "cell_type": "code",
   "execution_count": 41,
   "id": "9f9ff7c7",
   "metadata": {},
   "outputs": [
    {
     "name": "stdout",
     "output_type": "stream",
     "text": [
      "              banana is my favorite fruit.\n"
     ]
    }
   ],
   "source": [
    "txt = \"banana\"\n",
    "\n",
    "x = txt.rjust(20)\n",
    "\n",
    "print(x, \"is my favorite fruit.\")"
   ]
  },
  {
   "cell_type": "markdown",
   "id": "4d93a67b",
   "metadata": {},
   "source": [
    "Empty value cast to bool -> False"
   ]
  },
  {
   "cell_type": "code",
   "execution_count": 50,
   "id": "e2173d3f",
   "metadata": {},
   "outputs": [
    {
     "name": "stdout",
     "output_type": "stream",
     "text": [
      "True <class 'bool'>\n",
      "False\n",
      "True\n",
      "False\n",
      "False\n",
      "True\n",
      "False\n"
     ]
    }
   ],
   "source": [
    "b = 5 % 2 == 1\n",
    "\n",
    "print(b, type(b))\n",
    "\n",
    "print(bool(''))\n",
    "print(bool(' '))\n",
    "print(bool(None))\n",
    "print(bool(0))\n",
    "print(bool(1))\n",
    "print(bool([]))"
   ]
  },
  {
   "cell_type": "code",
   "execution_count": 52,
   "id": "3ce21e0d",
   "metadata": {},
   "outputs": [
    {
     "name": "stdout",
     "output_type": "stream",
     "text": [
      "4\n",
      "3\n"
     ]
    }
   ],
   "source": [
    "print(2**2)\n",
    "print(2^1)"
   ]
  },
  {
   "cell_type": "markdown",
   "id": "0e75efca",
   "metadata": {},
   "source": [
    "List find index"
   ]
  },
  {
   "cell_type": "code",
   "execution_count": 61,
   "id": "796fe5cf",
   "metadata": {},
   "outputs": [
    {
     "name": "stdout",
     "output_type": "stream",
     "text": [
      "2\n",
      "1\n"
     ]
    }
   ],
   "source": [
    "# list\n",
    "l = [1, 2, 3, 4]\n",
    "print(l.index(3))\n",
    "\n",
    "# list object\n",
    "lo = [{\"t\": 1}, {\"t\": 2}, {\"t\": 3}]\n",
    "\n",
    "i = lo.index({\"t\": 2})\n",
    "# i = lo.index({\"t\": 5}) #error not found ValueError\n",
    "\n",
    "print(i)"
   ]
  },
  {
   "cell_type": "code",
   "execution_count": null,
   "id": "e8647a0a",
   "metadata": {},
   "outputs": [
    {
     "name": "stdout",
     "output_type": "stream",
     "text": [
      "['apple', 'banana', 'cherry', 'mango', 'pineapple', 'papaya']\n",
      "['mango', 'pineapple', 'papaya']\n",
      "['apple', 'banana', 'cherry', 'mango', 'pineapple', 'papaya', 'xoai', 'chuoi']\n"
     ]
    }
   ],
   "source": [
    "# append list\n",
    "tlist = [\"apple\", \"banana\", \"cherry\"]\n",
    "tropical = [\"mango\", \"pineapple\", \"papaya\"]\n",
    "tlist.extend(tropical)\n",
    "print(tlist)\n",
    "print(tropical)\n",
    "\n",
    "tlist.extend((\"xoai\", \"chuoi\")) #can extend tuple or any iterable object\n",
    "print(tlist)"
   ]
  }
 ],
 "metadata": {
  "kernelspec": {
   "display_name": ".venv",
   "language": "python",
   "name": "python3"
  },
  "language_info": {
   "codemirror_mode": {
    "name": "ipython",
    "version": 3
   },
   "file_extension": ".py",
   "mimetype": "text/x-python",
   "name": "python",
   "nbconvert_exporter": "python",
   "pygments_lexer": "ipython3",
   "version": "3.11.11"
  }
 },
 "nbformat": 4,
 "nbformat_minor": 5
}
